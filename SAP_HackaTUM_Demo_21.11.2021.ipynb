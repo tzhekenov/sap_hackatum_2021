{
 "cells": [
  {
   "cell_type": "markdown",
   "id": "3076c469",
   "metadata": {},
   "source": [
    "<h1> Python package for text recognition and graph enhacement</h1> "
   ]
  },
  {
   "cell_type": "markdown",
   "id": "68ea8d5c",
   "metadata": {},
   "source": [
    "<h2>Setting up the packages </h2>"
   ]
  },
  {
   "cell_type": "markdown",
   "id": "f5af4022",
   "metadata": {},
   "source": [
    "<h3>Installing our own Python-3 Package to enhance graphs </h3>"
   ]
  },
  {
   "cell_type": "code",
   "execution_count": 21,
   "id": "43e21dad",
   "metadata": {
    "scrolled": true
   },
   "outputs": [
    {
     "ename": "SyntaxError",
     "evalue": "invalid syntax (Temp/ipykernel_18848/3456934459.py, line 1)",
     "output_type": "error",
     "traceback": [
      "\u001b[1;36m  File \u001b[1;32m\"C:\\Users\\user\\AppData\\Local\\Temp/ipykernel_18848/3456934459.py\"\u001b[1;36m, line \u001b[1;32m1\u001b[0m\n\u001b[1;33m    python setup.py bdist_wheel\u001b[0m\n\u001b[1;37m           ^\u001b[0m\n\u001b[1;31mSyntaxError\u001b[0m\u001b[1;31m:\u001b[0m invalid syntax\n"
     ]
    }
   ],
   "source": [
    "# python setup.py bdist_wheel\n",
    "# pip install dist/sap_data_builder-0.1.0-py3-none-any.whl  --force-reinstall"
   ]
  },
  {
   "cell_type": "markdown",
   "id": "7886c6ed",
   "metadata": {},
   "source": [
    "<h3>Importing packages</h3>"
   ]
  },
  {
   "cell_type": "code",
   "execution_count": 46,
   "id": "0391b6da",
   "metadata": {},
   "outputs": [],
   "source": [
    "import sap_data_builder\n",
    "import os\n",
    "import openai\n",
    "import json #\n",
    "import pandas as pd\n",
    "from GPTJ.gptj_api import Completion\n",
    "openai.api_key = \"YOUR OPENAI KEY""
   ]
  },
  {
   "cell_type": "markdown",
   "id": "748b8e34",
   "metadata": {},
   "source": [
    "<h3>Importing NLP API</h3>"
   ]
  },
  {
   "cell_type": "code",
   "execution_count": 30,
   "id": "44011c58",
   "metadata": {},
   "outputs": [],
   "source": [
    "#Function which returns trend of the interval\n",
    "def extract_trend(input_text):\n",
    "    base = \"Extract the trend up or down:\\n\\n\"\n",
    "    request = \"trend is: \"\n",
    "    prompt = base+input_text+request\n",
    "    response1 = openai.Completion.create(\n",
    "      engine=\"davinci-instruct-beta\",\n",
    "      prompt=prompt,\n",
    "      temperature=0,\n",
    "      max_tokens=64,\n",
    "      top_p=1,\n",
    "      frequency_penalty=2, #50\n",
    "      presence_penalty=0\n",
    "    )\n",
    "    trend = response1['choices'][0]['text']\n",
    "    return trend\n",
    "\n",
    "#Function which returns trend of the interval\n",
    "def extract_time_interval(input_text):\n",
    "    base = \"Extract the start and end dates: \\n\\n\"\n",
    "    request = \"the start and end dates are: \"\n",
    "    prompt = base+input_text+request\n",
    "    response1 = openai.Completion.create(\n",
    "      engine=\"davinci-instruct-beta\",\n",
    "      prompt=prompt,\n",
    "      temperature=0,\n",
    "      max_tokens=64,\n",
    "      top_p=1,\n",
    "      frequency_penalty=2, #50\n",
    "      presence_penalty=0\n",
    "    )\n",
    "    dates = response1['choices'][0]['text']\n",
    "    return dates\n",
    "\n",
    "#Function which returns combined dictionary of time interval and trend (aka direction of the graph in that interval)\n",
    "def comb_result(input_text):\n",
    "    time_interval = extract_time_interval(input_text)\n",
    "    trend = extract_trend(input_text)\n",
    "    interval = time_interval.split()\n",
    "    trend_map = {'decline':-1,'increase':1, 'down': -1, 'steep':0}\n",
    "    return {'trend': trend_map[trend.strip().lower()], 'start_date': (interval[0]), 'end_date': (interval[1])}"
   ]
  },
  {
   "cell_type": "markdown",
   "id": "6dfd7483",
   "metadata": {},
   "source": [
    "<h2>Inputting the Data Analyst's conclusions/insight about the graph</h2>"
   ]
  },
  {
   "cell_type": "markdown",
   "id": "a397fc7a",
   "metadata": {},
   "source": [
    "<h3>Original graph </h3>"
   ]
  },
  {
   "cell_type": "code",
   "execution_count": 73,
   "id": "afade878",
   "metadata": {},
   "outputs": [
    {
     "ename": "TypeError",
     "evalue": "no numeric data to plot",
     "output_type": "error",
     "traceback": [
      "\u001b[1;31m---------------------------------------------------------------------------\u001b[0m",
      "\u001b[1;31mTypeError\u001b[0m                                 Traceback (most recent call last)",
      "\u001b[1;32m~\\AppData\\Local\\Temp/ipykernel_18848/3020225412.py\u001b[0m in \u001b[0;36m<module>\u001b[1;34m\u001b[0m\n\u001b[0;32m      1\u001b[0m \u001b[0mdataf\u001b[0m \u001b[1;33m=\u001b[0m \u001b[0mpd\u001b[0m\u001b[1;33m.\u001b[0m\u001b[0mread_csv\u001b[0m\u001b[1;33m(\u001b[0m\u001b[1;34m\"file.csv\"\u001b[0m\u001b[1;33m)\u001b[0m\u001b[1;33m\u001b[0m\u001b[1;33m\u001b[0m\u001b[0m\n\u001b[0;32m      2\u001b[0m \u001b[0mdf\u001b[0m\u001b[1;33m=\u001b[0m\u001b[0mpd\u001b[0m\u001b[1;33m.\u001b[0m\u001b[0mDataFrame\u001b[0m\u001b[1;33m(\u001b[0m\u001b[0mdataf\u001b[0m\u001b[1;33m)\u001b[0m\u001b[1;33m\u001b[0m\u001b[1;33m\u001b[0m\u001b[0m\n\u001b[1;32m----> 3\u001b[1;33m \u001b[0mdf\u001b[0m\u001b[1;33m.\u001b[0m\u001b[0mplot\u001b[0m\u001b[1;33m(\u001b[0m\u001b[1;33m)\u001b[0m\u001b[1;33m\u001b[0m\u001b[1;33m\u001b[0m\u001b[0m\n\u001b[0m",
      "\u001b[1;32m~\\anaconda3\\lib\\site-packages\\pandas\\plotting\\_core.py\u001b[0m in \u001b[0;36m__call__\u001b[1;34m(self, *args, **kwargs)\u001b[0m\n\u001b[0;32m    970\u001b[0m                     \u001b[0mdata\u001b[0m\u001b[1;33m.\u001b[0m\u001b[0mcolumns\u001b[0m \u001b[1;33m=\u001b[0m \u001b[0mlabel_name\u001b[0m\u001b[1;33m\u001b[0m\u001b[1;33m\u001b[0m\u001b[0m\n\u001b[0;32m    971\u001b[0m \u001b[1;33m\u001b[0m\u001b[0m\n\u001b[1;32m--> 972\u001b[1;33m         \u001b[1;32mreturn\u001b[0m \u001b[0mplot_backend\u001b[0m\u001b[1;33m.\u001b[0m\u001b[0mplot\u001b[0m\u001b[1;33m(\u001b[0m\u001b[0mdata\u001b[0m\u001b[1;33m,\u001b[0m \u001b[0mkind\u001b[0m\u001b[1;33m=\u001b[0m\u001b[0mkind\u001b[0m\u001b[1;33m,\u001b[0m \u001b[1;33m**\u001b[0m\u001b[0mkwargs\u001b[0m\u001b[1;33m)\u001b[0m\u001b[1;33m\u001b[0m\u001b[1;33m\u001b[0m\u001b[0m\n\u001b[0m\u001b[0;32m    973\u001b[0m \u001b[1;33m\u001b[0m\u001b[0m\n\u001b[0;32m    974\u001b[0m     \u001b[0m__call__\u001b[0m\u001b[1;33m.\u001b[0m\u001b[0m__doc__\u001b[0m \u001b[1;33m=\u001b[0m \u001b[0m__doc__\u001b[0m\u001b[1;33m\u001b[0m\u001b[1;33m\u001b[0m\u001b[0m\n",
      "\u001b[1;32m~\\anaconda3\\lib\\site-packages\\pandas\\plotting\\_matplotlib\\__init__.py\u001b[0m in \u001b[0;36mplot\u001b[1;34m(data, kind, **kwargs)\u001b[0m\n\u001b[0;32m     69\u001b[0m             \u001b[0mkwargs\u001b[0m\u001b[1;33m[\u001b[0m\u001b[1;34m\"ax\"\u001b[0m\u001b[1;33m]\u001b[0m \u001b[1;33m=\u001b[0m \u001b[0mgetattr\u001b[0m\u001b[1;33m(\u001b[0m\u001b[0max\u001b[0m\u001b[1;33m,\u001b[0m \u001b[1;34m\"left_ax\"\u001b[0m\u001b[1;33m,\u001b[0m \u001b[0max\u001b[0m\u001b[1;33m)\u001b[0m\u001b[1;33m\u001b[0m\u001b[1;33m\u001b[0m\u001b[0m\n\u001b[0;32m     70\u001b[0m     \u001b[0mplot_obj\u001b[0m \u001b[1;33m=\u001b[0m \u001b[0mPLOT_CLASSES\u001b[0m\u001b[1;33m[\u001b[0m\u001b[0mkind\u001b[0m\u001b[1;33m]\u001b[0m\u001b[1;33m(\u001b[0m\u001b[0mdata\u001b[0m\u001b[1;33m,\u001b[0m \u001b[1;33m**\u001b[0m\u001b[0mkwargs\u001b[0m\u001b[1;33m)\u001b[0m\u001b[1;33m\u001b[0m\u001b[1;33m\u001b[0m\u001b[0m\n\u001b[1;32m---> 71\u001b[1;33m     \u001b[0mplot_obj\u001b[0m\u001b[1;33m.\u001b[0m\u001b[0mgenerate\u001b[0m\u001b[1;33m(\u001b[0m\u001b[1;33m)\u001b[0m\u001b[1;33m\u001b[0m\u001b[1;33m\u001b[0m\u001b[0m\n\u001b[0m\u001b[0;32m     72\u001b[0m     \u001b[0mplot_obj\u001b[0m\u001b[1;33m.\u001b[0m\u001b[0mdraw\u001b[0m\u001b[1;33m(\u001b[0m\u001b[1;33m)\u001b[0m\u001b[1;33m\u001b[0m\u001b[1;33m\u001b[0m\u001b[0m\n\u001b[0;32m     73\u001b[0m     \u001b[1;32mreturn\u001b[0m \u001b[0mplot_obj\u001b[0m\u001b[1;33m.\u001b[0m\u001b[0mresult\u001b[0m\u001b[1;33m\u001b[0m\u001b[1;33m\u001b[0m\u001b[0m\n",
      "\u001b[1;32m~\\anaconda3\\lib\\site-packages\\pandas\\plotting\\_matplotlib\\core.py\u001b[0m in \u001b[0;36mgenerate\u001b[1;34m(self)\u001b[0m\n\u001b[0;32m    284\u001b[0m     \u001b[1;32mdef\u001b[0m \u001b[0mgenerate\u001b[0m\u001b[1;33m(\u001b[0m\u001b[0mself\u001b[0m\u001b[1;33m)\u001b[0m\u001b[1;33m:\u001b[0m\u001b[1;33m\u001b[0m\u001b[1;33m\u001b[0m\u001b[0m\n\u001b[0;32m    285\u001b[0m         \u001b[0mself\u001b[0m\u001b[1;33m.\u001b[0m\u001b[0m_args_adjust\u001b[0m\u001b[1;33m(\u001b[0m\u001b[1;33m)\u001b[0m\u001b[1;33m\u001b[0m\u001b[1;33m\u001b[0m\u001b[0m\n\u001b[1;32m--> 286\u001b[1;33m         \u001b[0mself\u001b[0m\u001b[1;33m.\u001b[0m\u001b[0m_compute_plot_data\u001b[0m\u001b[1;33m(\u001b[0m\u001b[1;33m)\u001b[0m\u001b[1;33m\u001b[0m\u001b[1;33m\u001b[0m\u001b[0m\n\u001b[0m\u001b[0;32m    287\u001b[0m         \u001b[0mself\u001b[0m\u001b[1;33m.\u001b[0m\u001b[0m_setup_subplots\u001b[0m\u001b[1;33m(\u001b[0m\u001b[1;33m)\u001b[0m\u001b[1;33m\u001b[0m\u001b[1;33m\u001b[0m\u001b[0m\n\u001b[0;32m    288\u001b[0m         \u001b[0mself\u001b[0m\u001b[1;33m.\u001b[0m\u001b[0m_make_plot\u001b[0m\u001b[1;33m(\u001b[0m\u001b[1;33m)\u001b[0m\u001b[1;33m\u001b[0m\u001b[1;33m\u001b[0m\u001b[0m\n",
      "\u001b[1;32m~\\anaconda3\\lib\\site-packages\\pandas\\plotting\\_matplotlib\\core.py\u001b[0m in \u001b[0;36m_compute_plot_data\u001b[1;34m(self)\u001b[0m\n\u001b[0;32m    451\u001b[0m         \u001b[1;31m# no non-numeric frames or series allowed\u001b[0m\u001b[1;33m\u001b[0m\u001b[1;33m\u001b[0m\u001b[1;33m\u001b[0m\u001b[0m\n\u001b[0;32m    452\u001b[0m         \u001b[1;32mif\u001b[0m \u001b[0mis_empty\u001b[0m\u001b[1;33m:\u001b[0m\u001b[1;33m\u001b[0m\u001b[1;33m\u001b[0m\u001b[0m\n\u001b[1;32m--> 453\u001b[1;33m             \u001b[1;32mraise\u001b[0m \u001b[0mTypeError\u001b[0m\u001b[1;33m(\u001b[0m\u001b[1;34m\"no numeric data to plot\"\u001b[0m\u001b[1;33m)\u001b[0m\u001b[1;33m\u001b[0m\u001b[1;33m\u001b[0m\u001b[0m\n\u001b[0m\u001b[0;32m    454\u001b[0m \u001b[1;33m\u001b[0m\u001b[0m\n\u001b[0;32m    455\u001b[0m         \u001b[0mself\u001b[0m\u001b[1;33m.\u001b[0m\u001b[0mdata\u001b[0m \u001b[1;33m=\u001b[0m \u001b[0mnumeric_data\u001b[0m\u001b[1;33m.\u001b[0m\u001b[0mapply\u001b[0m\u001b[1;33m(\u001b[0m\u001b[0mself\u001b[0m\u001b[1;33m.\u001b[0m\u001b[0m_convert_to_ndarray\u001b[0m\u001b[1;33m)\u001b[0m\u001b[1;33m\u001b[0m\u001b[1;33m\u001b[0m\u001b[0m\n",
      "\u001b[1;31mTypeError\u001b[0m: no numeric data to plot"
     ]
    }
   ],
   "source": [
    "dataf = pd.read_csv(\"file.csv\")\n",
    "df=pd.DataFrame(dataf)\n",
    "df.plot()"
   ]
  },
  {
   "cell_type": "markdown",
   "id": "2ca6d3f2",
   "metadata": {},
   "source": [
    "<h3>In Json format </h3>"
   ]
  },
  {
   "cell_type": "code",
   "execution_count": 15,
   "id": "d5c0224e",
   "metadata": {},
   "outputs": [],
   "source": [
    "# Opening JSON file\n",
    "f = open('input_text.json',) #\n",
    "\n",
    "# returns JSON object as a dictionary\n",
    "data = json.load(f)\n",
    "input_text = data[\"input_text\"]\n",
    "# Closing file\n",
    "f.close() #"
   ]
  },
  {
   "cell_type": "markdown",
   "id": "e29cd3ea",
   "metadata": {},
   "source": [
    "<h3>In text format </h3>"
   ]
  },
  {
   "cell_type": "code",
   "execution_count": 41,
   "id": "bb3a339f",
   "metadata": {},
   "outputs": [],
   "source": [
    "#Place to change our input text\n",
    "input_text = \"\"\"During the period 2012 2016, there was a decline in tropospheric chlorine in the atmosphere, which is very close to the baseline projection from the 2014\n",
    "Assessment. The net rate of change was the result of a slower than projected decrease in CFC concentrations\n",
    "and a slower than projected increase in HCFCs relative to the 2014 scenario. That scenario was based on the\n",
    "maximum allowed production of HCFCs from Article 5 countries under the Montreal Protocol.\"\"\"\n",
    "\n",
    "#SAMPLE PAYLOADS"
   ]
  },
  {
   "cell_type": "code",
   "execution_count": 18,
   "id": "ccc5209a",
   "metadata": {},
   "outputs": [],
   "source": [
    "# #Checking the output\n",
    "# time_interval = extract_time_interval(input_text)\n",
    "# trend = extract_trend(input_text)\n",
    "# print(time_interval)\n",
    "# print(trend)"
   ]
  },
  {
   "cell_type": "markdown",
   "id": "a1f4520d",
   "metadata": {},
   "source": [
    "<h2>Using NLP for keyword extraction</h2>"
   ]
  },
  {
   "cell_type": "code",
   "execution_count": 40,
   "id": "5fd0005f",
   "metadata": {},
   "outputs": [
    {
     "name": "stdout",
     "output_type": "stream",
     "text": [
      "{'trend': -1, 'start_date': '01.01.2012', 'end_date': '01.01.2016'}\n"
     ]
    }
   ],
   "source": [
    "# the json file where the output must be stored\n",
    "result = comb_result(input_text) \n",
    "\n",
    "#PRINTING and WRIGING result \n",
    "out_file = open(\"result.json\", \"w\")\n",
    "json.dump(comb_result(input_text), out_file)\n",
    "out_file.close()\n",
    "print(result)"
   ]
  },
  {
   "cell_type": "code",
   "execution_count": 44,
   "id": "6be16840",
   "metadata": {},
   "outputs": [],
   "source": [
    "# sap_data_builder.comb_result(input_text)\n",
    "chart_data = [['Red', 'Blue', 'Yellow', 'Green', 'Purple', 'Orange'], [12, 19, 3, 5, 2, 3]]\n",
    "sap_data_builder.DataVisualizer.visualize_time_series(chart_data,input_text)"
   ]
  },
  {
   "cell_type": "code",
   "execution_count": null,
   "id": "93139bfd",
   "metadata": {},
   "outputs": [],
   "source": []
  }
 ],
 "metadata": {
  "kernelspec": {
   "display_name": "Python 3 (ipykernel)",
   "language": "python",
   "name": "python3"
  },
  "language_info": {
   "codemirror_mode": {
    "name": "ipython",
    "version": 3
   },
   "file_extension": ".py",
   "mimetype": "text/x-python",
   "name": "python",
   "nbconvert_exporter": "python",
   "pygments_lexer": "ipython3",
   "version": "3.8.5"
  },
  "toc": {
   "base_numbering": 1,
   "nav_menu": {},
   "number_sections": true,
   "sideBar": true,
   "skip_h1_title": false,
   "title_cell": "Table of Contents",
   "title_sidebar": "Contents",
   "toc_cell": false,
   "toc_position": {
    "height": "calc(100% - 180px)",
    "left": "10px",
    "top": "150px",
    "width": "324.99px"
   },
   "toc_section_display": true,
   "toc_window_display": true
  }
 },
 "nbformat": 4,
 "nbformat_minor": 5
}
